{
 "cells": [
  {
   "cell_type": "code",
   "execution_count": 3,
   "id": "c5117fdb-1885-42ba-a6ef-dcb9346e2cac",
   "metadata": {},
   "outputs": [
    {
     "name": "stdout",
     "output_type": "stream",
     "text": [
      "Defaulting to user installation because normal site-packages is not writeable\n",
      "Collecting pandas\n",
      "  Using cached pandas-2.2.3-cp313-cp313-win_amd64.whl.metadata (19 kB)\n",
      "Collecting numpy>=1.26.0 (from pandas)\n",
      "  Downloading numpy-2.2.4-cp313-cp313-win_amd64.whl.metadata (60 kB)\n",
      "Requirement already satisfied: python-dateutil>=2.8.2 in c:\\users\\prach\\appdata\\local\\packages\\pythonsoftwarefoundation.python.3.13_qbz5n2kfra8p0\\localcache\\local-packages\\python313\\site-packages (from pandas) (2.9.0.post0)\n",
      "Collecting pytz>=2020.1 (from pandas)\n",
      "  Downloading pytz-2025.2-py2.py3-none-any.whl.metadata (22 kB)\n",
      "Collecting tzdata>=2022.7 (from pandas)\n",
      "  Downloading tzdata-2025.2-py2.py3-none-any.whl.metadata (1.4 kB)\n",
      "Requirement already satisfied: six>=1.5 in c:\\users\\prach\\appdata\\local\\packages\\pythonsoftwarefoundation.python.3.13_qbz5n2kfra8p0\\localcache\\local-packages\\python313\\site-packages (from python-dateutil>=2.8.2->pandas) (1.17.0)\n",
      "Using cached pandas-2.2.3-cp313-cp313-win_amd64.whl (11.5 MB)\n",
      "Downloading numpy-2.2.4-cp313-cp313-win_amd64.whl (12.6 MB)\n",
      "   ---------------------------------------- 0.0/12.6 MB ? eta -:--:--\n",
      "    --------------------------------------- 0.3/12.6 MB ? eta -:--:--\n",
      "   -- ------------------------------------- 0.8/12.6 MB 2.4 MB/s eta 0:00:06\n",
      "   ---- ----------------------------------- 1.3/12.6 MB 2.3 MB/s eta 0:00:05\n",
      "   ----- ---------------------------------- 1.8/12.6 MB 2.5 MB/s eta 0:00:05\n",
      "   -------- ------------------------------- 2.6/12.6 MB 2.6 MB/s eta 0:00:04\n",
      "   --------- ------------------------------ 3.1/12.6 MB 2.6 MB/s eta 0:00:04\n",
      "   ----------- ---------------------------- 3.7/12.6 MB 2.6 MB/s eta 0:00:04\n",
      "   ------------ --------------------------- 3.9/12.6 MB 2.5 MB/s eta 0:00:04\n",
      "   -------------- ------------------------- 4.5/12.6 MB 2.4 MB/s eta 0:00:04\n",
      "   -------------- ------------------------- 4.5/12.6 MB 2.4 MB/s eta 0:00:04\n",
      "   --------------- ------------------------ 5.0/12.6 MB 2.2 MB/s eta 0:00:04\n",
      "   ----------------- ---------------------- 5.5/12.6 MB 2.2 MB/s eta 0:00:04\n",
      "   ------------------- -------------------- 6.0/12.6 MB 2.2 MB/s eta 0:00:03\n",
      "   -------------------- ------------------- 6.6/12.6 MB 2.2 MB/s eta 0:00:03\n",
      "   --------------------- ------------------ 6.8/12.6 MB 2.2 MB/s eta 0:00:03\n",
      "   ----------------------- ---------------- 7.3/12.6 MB 2.2 MB/s eta 0:00:03\n",
      "   ------------------------ --------------- 7.9/12.6 MB 2.2 MB/s eta 0:00:03\n",
      "   -------------------------- ------------- 8.4/12.6 MB 2.2 MB/s eta 0:00:02\n",
      "   ----------------------------- ---------- 9.2/12.6 MB 2.3 MB/s eta 0:00:02\n",
      "   ------------------------------ --------- 9.7/12.6 MB 2.3 MB/s eta 0:00:02\n",
      "   ------------------------------- -------- 10.0/12.6 MB 2.3 MB/s eta 0:00:02\n",
      "   --------------------------------- ------ 10.5/12.6 MB 2.3 MB/s eta 0:00:01\n",
      "   ---------------------------------- ----- 10.7/12.6 MB 2.2 MB/s eta 0:00:01\n",
      "   ----------------------------------- ---- 11.3/12.6 MB 2.2 MB/s eta 0:00:01\n",
      "   ------------------------------------- -- 11.8/12.6 MB 2.2 MB/s eta 0:00:01\n",
      "   -------------------------------------- - 12.3/12.6 MB 2.2 MB/s eta 0:00:01\n",
      "   ---------------------------------------  12.6/12.6 MB 2.2 MB/s eta 0:00:01\n",
      "   ---------------------------------------- 12.6/12.6 MB 2.1 MB/s eta 0:00:00\n",
      "Downloading pytz-2025.2-py2.py3-none-any.whl (509 kB)\n",
      "Downloading tzdata-2025.2-py2.py3-none-any.whl (347 kB)\n",
      "Installing collected packages: pytz, tzdata, numpy, pandas\n",
      "Successfully installed numpy-2.2.4 pandas-2.2.3 pytz-2025.2 tzdata-2025.2\n"
     ]
    },
    {
     "name": "stderr",
     "output_type": "stream",
     "text": [
      "  WARNING: The scripts f2py.exe and numpy-config.exe are installed in 'C:\\Users\\Prach\\AppData\\Local\\Packages\\PythonSoftwareFoundation.Python.3.13_qbz5n2kfra8p0\\LocalCache\\local-packages\\Python313\\Scripts' which is not on PATH.\n",
      "  Consider adding this directory to PATH or, if you prefer to suppress this warning, use --no-warn-script-location.\n"
     ]
    }
   ],
   "source": [
    "!pip install pandas\n",
    "import pandas as pd\n",
    "# importing the dataset\n",
    "data = pd.read_csv('bank_transactions.csv')"
   ]
  },
  {
   "cell_type": "code",
   "execution_count": 4,
   "id": "cc6dcea3-fc7c-41af-b228-ccaf6eb32792",
   "metadata": {},
   "outputs": [
    {
     "data": {
      "text/html": [
       "<div>\n",
       "<style scoped>\n",
       "    .dataframe tbody tr th:only-of-type {\n",
       "        vertical-align: middle;\n",
       "    }\n",
       "\n",
       "    .dataframe tbody tr th {\n",
       "        vertical-align: top;\n",
       "    }\n",
       "\n",
       "    .dataframe thead th {\n",
       "        text-align: right;\n",
       "    }\n",
       "</style>\n",
       "<table border=\"1\" class=\"dataframe\">\n",
       "  <thead>\n",
       "    <tr style=\"text-align: right;\">\n",
       "      <th></th>\n",
       "      <th>TransactionID</th>\n",
       "      <th>CustomerID</th>\n",
       "      <th>CustomerDOB</th>\n",
       "      <th>CustGender</th>\n",
       "      <th>CustLocation</th>\n",
       "      <th>CustAccountBalance</th>\n",
       "      <th>TransactionDate</th>\n",
       "      <th>TransactionTime</th>\n",
       "      <th>TransactionAmount (INR)</th>\n",
       "    </tr>\n",
       "  </thead>\n",
       "  <tbody>\n",
       "    <tr>\n",
       "      <th>0</th>\n",
       "      <td>T1</td>\n",
       "      <td>C5841053</td>\n",
       "      <td>10/1/94</td>\n",
       "      <td>F</td>\n",
       "      <td>JAMSHEDPUR</td>\n",
       "      <td>17819.05</td>\n",
       "      <td>2/8/16</td>\n",
       "      <td>143207</td>\n",
       "      <td>25.0</td>\n",
       "    </tr>\n",
       "    <tr>\n",
       "      <th>1</th>\n",
       "      <td>T2</td>\n",
       "      <td>C2142763</td>\n",
       "      <td>4/4/57</td>\n",
       "      <td>M</td>\n",
       "      <td>JHAJJAR</td>\n",
       "      <td>2270.69</td>\n",
       "      <td>2/8/16</td>\n",
       "      <td>141858</td>\n",
       "      <td>27999.0</td>\n",
       "    </tr>\n",
       "    <tr>\n",
       "      <th>2</th>\n",
       "      <td>T3</td>\n",
       "      <td>C4417068</td>\n",
       "      <td>26/11/96</td>\n",
       "      <td>F</td>\n",
       "      <td>MUMBAI</td>\n",
       "      <td>17874.44</td>\n",
       "      <td>2/8/16</td>\n",
       "      <td>142712</td>\n",
       "      <td>459.0</td>\n",
       "    </tr>\n",
       "    <tr>\n",
       "      <th>3</th>\n",
       "      <td>T4</td>\n",
       "      <td>C5342380</td>\n",
       "      <td>14/9/73</td>\n",
       "      <td>F</td>\n",
       "      <td>MUMBAI</td>\n",
       "      <td>866503.21</td>\n",
       "      <td>2/8/16</td>\n",
       "      <td>142714</td>\n",
       "      <td>2060.0</td>\n",
       "    </tr>\n",
       "    <tr>\n",
       "      <th>4</th>\n",
       "      <td>T5</td>\n",
       "      <td>C9031234</td>\n",
       "      <td>24/3/88</td>\n",
       "      <td>F</td>\n",
       "      <td>NAVI MUMBAI</td>\n",
       "      <td>6714.43</td>\n",
       "      <td>2/8/16</td>\n",
       "      <td>181156</td>\n",
       "      <td>1762.5</td>\n",
       "    </tr>\n",
       "  </tbody>\n",
       "</table>\n",
       "</div>"
      ],
      "text/plain": [
       "  TransactionID CustomerID CustomerDOB CustGender CustLocation  \\\n",
       "0            T1   C5841053     10/1/94          F   JAMSHEDPUR   \n",
       "1            T2   C2142763      4/4/57          M      JHAJJAR   \n",
       "2            T3   C4417068    26/11/96          F       MUMBAI   \n",
       "3            T4   C5342380     14/9/73          F       MUMBAI   \n",
       "4            T5   C9031234     24/3/88          F  NAVI MUMBAI   \n",
       "\n",
       "   CustAccountBalance TransactionDate  TransactionTime  \\\n",
       "0            17819.05          2/8/16           143207   \n",
       "1             2270.69          2/8/16           141858   \n",
       "2            17874.44          2/8/16           142712   \n",
       "3           866503.21          2/8/16           142714   \n",
       "4             6714.43          2/8/16           181156   \n",
       "\n",
       "   TransactionAmount (INR)  \n",
       "0                     25.0  \n",
       "1                  27999.0  \n",
       "2                    459.0  \n",
       "3                   2060.0  \n",
       "4                   1762.5  "
      ]
     },
     "execution_count": 4,
     "metadata": {},
     "output_type": "execute_result"
    }
   ],
   "source": [
    "data.head()"
   ]
  },
  {
   "cell_type": "code",
   "execution_count": 5,
   "id": "876e6444-bc19-4276-9327-7a4923a39a08",
   "metadata": {},
   "outputs": [
    {
     "name": "stdout",
     "output_type": "stream",
     "text": [
      "<class 'pandas.core.frame.DataFrame'>\n",
      "RangeIndex: 1048567 entries, 0 to 1048566\n",
      "Data columns (total 9 columns):\n",
      " #   Column                   Non-Null Count    Dtype  \n",
      "---  ------                   --------------    -----  \n",
      " 0   TransactionID            1048567 non-null  object \n",
      " 1   CustomerID               1048567 non-null  object \n",
      " 2   CustomerDOB              1045170 non-null  object \n",
      " 3   CustGender               1047467 non-null  object \n",
      " 4   CustLocation             1048416 non-null  object \n",
      " 5   CustAccountBalance       1046198 non-null  float64\n",
      " 6   TransactionDate          1048567 non-null  object \n",
      " 7   TransactionTime          1048567 non-null  int64  \n",
      " 8   TransactionAmount (INR)  1048567 non-null  float64\n",
      "dtypes: float64(2), int64(1), object(6)\n",
      "memory usage: 72.0+ MB\n"
     ]
    }
   ],
   "source": [
    "data.info()"
   ]
  },
  {
   "cell_type": "code",
   "execution_count": 6,
   "id": "481f8bbd-50ab-4297-885c-f7f26c245e02",
   "metadata": {},
   "outputs": [
    {
     "data": {
      "text/plain": [
       "TransactionID              1048567\n",
       "CustomerID                  884265\n",
       "CustomerDOB                  17254\n",
       "CustGender                       3\n",
       "CustLocation                  9355\n",
       "CustAccountBalance          161328\n",
       "TransactionDate                 55\n",
       "TransactionTime              81918\n",
       "TransactionAmount (INR)      93024\n",
       "dtype: int64"
      ]
     },
     "execution_count": 6,
     "metadata": {},
     "output_type": "execute_result"
    }
   ],
   "source": [
    "# checking for number of unique values in each column\n",
    "data.nunique()"
   ]
  },
  {
   "cell_type": "code",
   "execution_count": 7,
   "id": "05ebdebc-32fb-4752-87df-c9ac0e7f998f",
   "metadata": {},
   "outputs": [
    {
     "data": {
      "text/plain": [
       "array(['F', 'M', nan, 'T'], dtype=object)"
      ]
     },
     "execution_count": 7,
     "metadata": {},
     "output_type": "execute_result"
    }
   ],
   "source": [
    "data.CustGender.unique()"
   ]
  },
  {
   "cell_type": "code",
   "execution_count": 8,
   "id": "0ce4b656-9ee5-4e2a-804e-e12ae14f6234",
   "metadata": {},
   "outputs": [
    {
     "data": {
      "text/html": [
       "<div>\n",
       "<style scoped>\n",
       "    .dataframe tbody tr th:only-of-type {\n",
       "        vertical-align: middle;\n",
       "    }\n",
       "\n",
       "    .dataframe tbody tr th {\n",
       "        vertical-align: top;\n",
       "    }\n",
       "\n",
       "    .dataframe thead th {\n",
       "        text-align: right;\n",
       "    }\n",
       "</style>\n",
       "<table border=\"1\" class=\"dataframe\">\n",
       "  <thead>\n",
       "    <tr style=\"text-align: right;\">\n",
       "      <th></th>\n",
       "      <th>TransactionID</th>\n",
       "      <th>CustomerID</th>\n",
       "      <th>CustomerDOB</th>\n",
       "      <th>CustGender</th>\n",
       "      <th>CustLocation</th>\n",
       "      <th>CustAccountBalance</th>\n",
       "      <th>TransactionDate</th>\n",
       "      <th>TransactionTime</th>\n",
       "      <th>TransactionAmount (INR)</th>\n",
       "    </tr>\n",
       "  </thead>\n",
       "  <tbody>\n",
       "  </tbody>\n",
       "</table>\n",
       "</div>"
      ],
      "text/plain": [
       "Empty DataFrame\n",
       "Columns: [TransactionID, CustomerID, CustomerDOB, CustGender, CustLocation, CustAccountBalance, TransactionDate, TransactionTime, TransactionAmount (INR)]\n",
       "Index: []"
      ]
     },
     "execution_count": 8,
     "metadata": {},
     "output_type": "execute_result"
    }
   ],
   "source": [
    "# verifying that there are any duplicates in the data\n",
    "data[data.duplicated(subset='TransactionID', keep=False)]"
   ]
  },
  {
   "cell_type": "code",
   "execution_count": 9,
   "id": "0ed73fba-8db6-4165-88d2-bb5a3fe2cea9",
   "metadata": {},
   "outputs": [
    {
     "data": {
      "text/plain": [
       "TransactionID                 0\n",
       "CustomerID                    0\n",
       "CustomerDOB                3397\n",
       "CustGender                 1100\n",
       "CustLocation                151\n",
       "CustAccountBalance         2369\n",
       "TransactionDate               0\n",
       "TransactionTime               0\n",
       "TransactionAmount (INR)       0\n",
       "dtype: int64"
      ]
     },
     "execution_count": 9,
     "metadata": {},
     "output_type": "execute_result"
    }
   ],
   "source": [
    "# checking for missing values in the dataset\n",
    "data.isnull().sum()"
   ]
  },
  {
   "cell_type": "code",
   "execution_count": 10,
   "id": "304b66e0-ca57-4623-8dab-921644e2e92a",
   "metadata": {},
   "outputs": [
    {
     "data": {
      "text/plain": [
       "TransactionID                 0\n",
       "CustomerID                    0\n",
       "CustomerDOB                3397\n",
       "CustGender                 1100\n",
       "CustLocation                151\n",
       "CustAccountBalance         2369\n",
       "TransactionDate               0\n",
       "TransactionTime               0\n",
       "TransactionAmount (INR)       0\n",
       "dtype: int64"
      ]
     },
     "execution_count": 10,
     "metadata": {},
     "output_type": "execute_result"
    }
   ],
   "source": [
    "# checking for missing values in the dataset\n",
    "data.isnull().sum()"
   ]
  },
  {
   "cell_type": "code",
   "execution_count": 11,
   "id": "50617e04-ccda-49a7-8dd6-40edf3ff92c5",
   "metadata": {},
   "outputs": [],
   "source": [
    "# dropping the rows with missing values \n",
    "data.dropna(inplace=True)"
   ]
  },
  {
   "cell_type": "code",
   "execution_count": 12,
   "id": "94b49254-ee3c-42ff-b6a8-fbe4ec823984",
   "metadata": {},
   "outputs": [
    {
     "data": {
      "text/plain": [
       "TransactionID              0\n",
       "CustomerID                 0\n",
       "CustomerDOB                0\n",
       "CustGender                 0\n",
       "CustLocation               0\n",
       "CustAccountBalance         0\n",
       "TransactionDate            0\n",
       "TransactionTime            0\n",
       "TransactionAmount (INR)    0\n",
       "dtype: int64"
      ]
     },
     "execution_count": 12,
     "metadata": {},
     "output_type": "execute_result"
    }
   ],
   "source": [
    "data.isnull().sum()"
   ]
  },
  {
   "cell_type": "code",
   "execution_count": 13,
   "id": "a3a8c16e-ace6-474d-93ce-769fd1092c5b",
   "metadata": {},
   "outputs": [
    {
     "data": {
      "text/plain": [
       "TransactionID               object\n",
       "CustomerID                  object\n",
       "CustomerDOB                 object\n",
       "CustGender                  object\n",
       "CustLocation                object\n",
       "CustAccountBalance         float64\n",
       "TransactionDate             object\n",
       "TransactionTime              int64\n",
       "TransactionAmount (INR)    float64\n",
       "dtype: object"
      ]
     },
     "execution_count": 13,
     "metadata": {},
     "output_type": "execute_result"
    }
   ],
   "source": [
    "# checking that dtypes are valid or not\n",
    "data.dtypes"
   ]
  },
  {
   "cell_type": "markdown",
   "id": "9a278129-48ec-44ba-b857-57d1d2b4d4f5",
   "metadata": {},
   "source": [
    "#### CustomerDOB and TransactionDate need be converted to date datatype"
   ]
  },
  {
   "cell_type": "code",
   "execution_count": 16,
   "id": "9d9d42b1-8e17-41c9-99a9-aa10c61cb0d9",
   "metadata": {},
   "outputs": [
    {
     "data": {
      "text/plain": [
       "0           10/1/94\n",
       "1            4/4/57\n",
       "2          26/11/96\n",
       "3           14/9/73\n",
       "4           24/3/88\n",
       "             ...   \n",
       "1048562      8/4/90\n",
       "1048563     20/2/92\n",
       "1048564     18/5/89\n",
       "1048565     30/8/78\n",
       "1048566      5/3/84\n",
       "Name: CustomerDOB, Length: 1041614, dtype: object"
      ]
     },
     "execution_count": 16,
     "metadata": {},
     "output_type": "execute_result"
    }
   ],
   "source": [
    "data['CustomerDOB']"
   ]
  },
  {
   "cell_type": "code",
   "execution_count": 17,
   "id": "f606c63e-f560-4671-b3f2-757fc5ea3f30",
   "metadata": {},
   "outputs": [
    {
     "data": {
      "text/plain": [
       "0         1994-01-10\n",
       "1         2057-04-04\n",
       "2         1996-11-26\n",
       "3         1973-09-14\n",
       "4         1988-03-24\n",
       "             ...    \n",
       "1048562   1990-04-08\n",
       "1048563   1992-02-20\n",
       "1048564   1989-05-18\n",
       "1048565   1978-08-30\n",
       "1048566   1984-03-05\n",
       "Name: CustomerDOB, Length: 1041614, dtype: datetime64[ns]"
      ]
     },
     "execution_count": 17,
     "metadata": {},
     "output_type": "execute_result"
    }
   ],
   "source": [
    "# Converting the CustomerDOB dtype but not assigning it back \n",
    "pd.to_datetime(data['CustomerDOB'], format='%d/%m/%y',errors='coerce')"
   ]
  },
  {
   "cell_type": "code",
   "execution_count": 18,
   "id": "5220c0ef-aca3-4ff3-8c6d-766a89565271",
   "metadata": {},
   "outputs": [],
   "source": [
    "from datetime import datetime\n",
    "\n",
    "# Function to convert years into the correct format\n",
    "def parse_date(date_str):\n",
    "    try:\n",
    "        # Attempt to parse the date in 'dd/mm/yy' format\n",
    "        date = datetime.strptime(date_str, '%d/%m/%y')\n",
    "    except ValueError:\n",
    "        # Date in customerDOB is in two different formats\n",
    "        try:\n",
    "            # If that fails, attempt to parse it in 'dd/mm/yyyy' format\n",
    "            date = datetime.strptime(date_str, '%d/%m/%Y')\n",
    "        except ValueError:\n",
    "            return None  # Return None if both formats fail\n",
    "    # Adjust the year based on the century pivot\n",
    "    if date.year > 2017:\n",
    "        return date.replace(year=date.year - 100)\n",
    "    return date\n",
    "\n",
    "# Applying the function to the 'CustomerDOB' column\n",
    "data['CustomerDOB'] = data['CustomerDOB'].apply(parse_date)"
   ]
  },
  {
   "cell_type": "code",
   "execution_count": 19,
   "id": "4bb04b1e-fc3e-438b-a9d4-eb47a7ae6d28",
   "metadata": {},
   "outputs": [
    {
     "data": {
      "text/plain": [
       "Series([], Name: CustomerID, dtype: object)"
      ]
     },
     "execution_count": 19,
     "metadata": {},
     "output_type": "execute_result"
    }
   ],
   "source": [
    "data[data['CustomerDOB']=='Nan']['CustomerID']"
   ]
  },
  {
   "cell_type": "code",
   "execution_count": 20,
   "id": "0d9d5531-a7f9-41a9-96f7-bddf1e36a18b",
   "metadata": {},
   "outputs": [
    {
     "data": {
      "text/plain": [
       "0         1994-01-10\n",
       "1         1957-04-04\n",
       "2         1996-11-26\n",
       "3         1973-09-14\n",
       "4         1988-03-24\n",
       "             ...    \n",
       "1048562   1990-04-08\n",
       "1048563   1992-02-20\n",
       "1048564   1989-05-18\n",
       "1048565   1978-08-30\n",
       "1048566   1984-03-05\n",
       "Name: CustomerDOB, Length: 1041614, dtype: datetime64[ns]"
      ]
     },
     "execution_count": 20,
     "metadata": {},
     "output_type": "execute_result"
    }
   ],
   "source": [
    "data['CustomerDOB']"
   ]
  },
  {
   "cell_type": "code",
   "execution_count": 21,
   "id": "78569c83-921c-42fe-a95b-3f66f4977b29",
   "metadata": {},
   "outputs": [],
   "source": [
    "#CustomerDOB dtype is converted succesfully with precise year."
   ]
  },
  {
   "cell_type": "code",
   "execution_count": 22,
   "id": "40fbfb32-e21c-462a-95c2-d7dc5c976ffe",
   "metadata": {},
   "outputs": [
    {
     "data": {
      "text/plain": [
       "0         2016-08-02\n",
       "1         2016-08-02\n",
       "2         2016-08-02\n",
       "3         2016-08-02\n",
       "4         2016-08-02\n",
       "             ...    \n",
       "1048562   2016-09-18\n",
       "1048563   2016-09-18\n",
       "1048564   2016-09-18\n",
       "1048565   2016-09-18\n",
       "1048566   2016-09-18\n",
       "Name: TransactionDate, Length: 1041614, dtype: datetime64[ns]"
      ]
     },
     "execution_count": 22,
     "metadata": {},
     "output_type": "execute_result"
    }
   ],
   "source": [
    "data['TransactionDate'] = pd.to_datetime(data['TransactionDate'], format='%d/%m/%y',errors='coerce')\n",
    "data['TransactionDate']"
   ]
  },
  {
   "cell_type": "code",
   "execution_count": 23,
   "id": "9d4098fe-2bb2-44b1-bc4b-8ae54481c60b",
   "metadata": {},
   "outputs": [
    {
     "data": {
      "text/plain": [
       "TransactionID                      object\n",
       "CustomerID                         object\n",
       "CustomerDOB                datetime64[ns]\n",
       "CustGender                         object\n",
       "CustLocation                       object\n",
       "CustAccountBalance                float64\n",
       "TransactionDate            datetime64[ns]\n",
       "TransactionTime                     int64\n",
       "TransactionAmount (INR)           float64\n",
       "dtype: object"
      ]
     },
     "execution_count": 23,
     "metadata": {},
     "output_type": "execute_result"
    }
   ],
   "source": [
    "data.dtypes"
   ]
  },
  {
   "cell_type": "markdown",
   "id": "532bf846-aaf5-4982-93c1-e076fe319823",
   "metadata": {},
   "source": [
    "#### Let's perform demographic customerSegmentation based on gender and age. As there is no age column, we'll create it from customerDOB."
   ]
  },
  {
   "cell_type": "code",
   "execution_count": 26,
   "id": "7555b2bc-24d5-4b4c-a9ad-bfdeb0f438f8",
   "metadata": {},
   "outputs": [],
   "source": [
    "# lets assume today as jan2017 as the data is of 2016\n",
    "today = pd.Timestamp('2017-01-01')\n",
    "data['Age'] = (today - data['CustomerDOB']).apply(lambda x: x.days // 365)"
   ]
  },
  {
   "cell_type": "code",
   "execution_count": 27,
   "id": "50aec957-d6e3-471a-be9e-9fd9f68676da",
   "metadata": {},
   "outputs": [],
   "source": [
    "data['AgeGroup'] = ['Young' if age <= 20 else 'Middle-Age' if 20 < age <= 40 else 'Elderly' for age in data['Age']]"
   ]
  },
  {
   "cell_type": "code",
   "execution_count": 28,
   "id": "1a00312f-e7c7-4dcc-8478-f65971b19914",
   "metadata": {},
   "outputs": [
    {
     "data": {
      "text/html": [
       "<div>\n",
       "<style scoped>\n",
       "    .dataframe tbody tr th:only-of-type {\n",
       "        vertical-align: middle;\n",
       "    }\n",
       "\n",
       "    .dataframe tbody tr th {\n",
       "        vertical-align: top;\n",
       "    }\n",
       "\n",
       "    .dataframe thead th {\n",
       "        text-align: right;\n",
       "    }\n",
       "</style>\n",
       "<table border=\"1\" class=\"dataframe\">\n",
       "  <thead>\n",
       "    <tr style=\"text-align: right;\">\n",
       "      <th></th>\n",
       "      <th>TransactionID</th>\n",
       "      <th>CustomerID</th>\n",
       "      <th>CustomerDOB</th>\n",
       "      <th>CustGender</th>\n",
       "      <th>CustLocation</th>\n",
       "      <th>CustAccountBalance</th>\n",
       "      <th>TransactionDate</th>\n",
       "      <th>TransactionTime</th>\n",
       "      <th>TransactionAmount (INR)</th>\n",
       "      <th>Age</th>\n",
       "      <th>AgeGroup</th>\n",
       "    </tr>\n",
       "  </thead>\n",
       "  <tbody>\n",
       "    <tr>\n",
       "      <th>0</th>\n",
       "      <td>T1</td>\n",
       "      <td>C5841053</td>\n",
       "      <td>1994-01-10</td>\n",
       "      <td>F</td>\n",
       "      <td>JAMSHEDPUR</td>\n",
       "      <td>17819.05</td>\n",
       "      <td>2016-08-02</td>\n",
       "      <td>143207</td>\n",
       "      <td>25.0</td>\n",
       "      <td>22</td>\n",
       "      <td>Middle-Age</td>\n",
       "    </tr>\n",
       "    <tr>\n",
       "      <th>1</th>\n",
       "      <td>T2</td>\n",
       "      <td>C2142763</td>\n",
       "      <td>1957-04-04</td>\n",
       "      <td>M</td>\n",
       "      <td>JHAJJAR</td>\n",
       "      <td>2270.69</td>\n",
       "      <td>2016-08-02</td>\n",
       "      <td>141858</td>\n",
       "      <td>27999.0</td>\n",
       "      <td>59</td>\n",
       "      <td>Elderly</td>\n",
       "    </tr>\n",
       "    <tr>\n",
       "      <th>2</th>\n",
       "      <td>T3</td>\n",
       "      <td>C4417068</td>\n",
       "      <td>1996-11-26</td>\n",
       "      <td>F</td>\n",
       "      <td>MUMBAI</td>\n",
       "      <td>17874.44</td>\n",
       "      <td>2016-08-02</td>\n",
       "      <td>142712</td>\n",
       "      <td>459.0</td>\n",
       "      <td>20</td>\n",
       "      <td>Young</td>\n",
       "    </tr>\n",
       "    <tr>\n",
       "      <th>3</th>\n",
       "      <td>T4</td>\n",
       "      <td>C5342380</td>\n",
       "      <td>1973-09-14</td>\n",
       "      <td>F</td>\n",
       "      <td>MUMBAI</td>\n",
       "      <td>866503.21</td>\n",
       "      <td>2016-08-02</td>\n",
       "      <td>142714</td>\n",
       "      <td>2060.0</td>\n",
       "      <td>43</td>\n",
       "      <td>Elderly</td>\n",
       "    </tr>\n",
       "    <tr>\n",
       "      <th>4</th>\n",
       "      <td>T5</td>\n",
       "      <td>C9031234</td>\n",
       "      <td>1988-03-24</td>\n",
       "      <td>F</td>\n",
       "      <td>NAVI MUMBAI</td>\n",
       "      <td>6714.43</td>\n",
       "      <td>2016-08-02</td>\n",
       "      <td>181156</td>\n",
       "      <td>1762.5</td>\n",
       "      <td>28</td>\n",
       "      <td>Middle-Age</td>\n",
       "    </tr>\n",
       "  </tbody>\n",
       "</table>\n",
       "</div>"
      ],
      "text/plain": [
       "  TransactionID CustomerID CustomerDOB CustGender CustLocation  \\\n",
       "0            T1   C5841053  1994-01-10          F   JAMSHEDPUR   \n",
       "1            T2   C2142763  1957-04-04          M      JHAJJAR   \n",
       "2            T3   C4417068  1996-11-26          F       MUMBAI   \n",
       "3            T4   C5342380  1973-09-14          F       MUMBAI   \n",
       "4            T5   C9031234  1988-03-24          F  NAVI MUMBAI   \n",
       "\n",
       "   CustAccountBalance TransactionDate  TransactionTime  \\\n",
       "0            17819.05      2016-08-02           143207   \n",
       "1             2270.69      2016-08-02           141858   \n",
       "2            17874.44      2016-08-02           142712   \n",
       "3           866503.21      2016-08-02           142714   \n",
       "4             6714.43      2016-08-02           181156   \n",
       "\n",
       "   TransactionAmount (INR)  Age    AgeGroup  \n",
       "0                     25.0   22  Middle-Age  \n",
       "1                  27999.0   59     Elderly  \n",
       "2                    459.0   20       Young  \n",
       "3                   2060.0   43     Elderly  \n",
       "4                   1762.5   28  Middle-Age  "
      ]
     },
     "execution_count": 28,
     "metadata": {},
     "output_type": "execute_result"
    }
   ],
   "source": [
    "data.head()"
   ]
  },
  {
   "cell_type": "code",
   "execution_count": 29,
   "id": "61b74a76-46fd-4629-9333-7cd5bfd159c2",
   "metadata": {},
   "outputs": [],
   "source": [
    "# saving cleaned csv\n",
    "data.to_csv('cleaned_data.csv', index=False)"
   ]
  },
  {
   "cell_type": "code",
   "execution_count": 30,
   "id": "df6bd021-a940-4218-9d7e-b9876a0d1771",
   "metadata": {},
   "outputs": [
    {
     "data": {
      "text/plain": [
       "TransactionID              0\n",
       "CustomerID                 0\n",
       "CustomerDOB                0\n",
       "CustGender                 0\n",
       "CustLocation               0\n",
       "CustAccountBalance         0\n",
       "TransactionDate            0\n",
       "TransactionTime            0\n",
       "TransactionAmount (INR)    0\n",
       "Age                        0\n",
       "AgeGroup                   0\n",
       "dtype: int64"
      ]
     },
     "execution_count": 30,
     "metadata": {},
     "output_type": "execute_result"
    }
   ],
   "source": [
    "data.isnull().sum()"
   ]
  },
  {
   "cell_type": "code",
   "execution_count": 31,
   "id": "67509804-b73e-44dd-977c-6db48f81cc3b",
   "metadata": {},
   "outputs": [],
   "source": [
    "data2 = data.groupby(['CustGender','AgeGroup'])['TransactionID'].count().reset_index()"
   ]
  },
  {
   "cell_type": "code",
   "execution_count": 32,
   "id": "67dda63a-17df-4518-8c10-9ad669a607c3",
   "metadata": {},
   "outputs": [
    {
     "data": {
      "text/html": [
       "<div>\n",
       "<style scoped>\n",
       "    .dataframe tbody tr th:only-of-type {\n",
       "        vertical-align: middle;\n",
       "    }\n",
       "\n",
       "    .dataframe tbody tr th {\n",
       "        vertical-align: top;\n",
       "    }\n",
       "\n",
       "    .dataframe thead th {\n",
       "        text-align: right;\n",
       "    }\n",
       "</style>\n",
       "<table border=\"1\" class=\"dataframe\">\n",
       "  <thead>\n",
       "    <tr style=\"text-align: right;\">\n",
       "      <th></th>\n",
       "      <th>CustGender</th>\n",
       "      <th>AgeGroup</th>\n",
       "      <th>TransactionID</th>\n",
       "    </tr>\n",
       "  </thead>\n",
       "  <tbody>\n",
       "    <tr>\n",
       "      <th>0</th>\n",
       "      <td>F</td>\n",
       "      <td>Elderly</td>\n",
       "      <td>39553</td>\n",
       "    </tr>\n",
       "    <tr>\n",
       "      <th>1</th>\n",
       "      <td>F</td>\n",
       "      <td>Middle-Age</td>\n",
       "      <td>235433</td>\n",
       "    </tr>\n",
       "    <tr>\n",
       "      <th>2</th>\n",
       "      <td>F</td>\n",
       "      <td>Young</td>\n",
       "      <td>5649</td>\n",
       "    </tr>\n",
       "    <tr>\n",
       "      <th>3</th>\n",
       "      <td>M</td>\n",
       "      <td>Elderly</td>\n",
       "      <td>134544</td>\n",
       "    </tr>\n",
       "    <tr>\n",
       "      <th>4</th>\n",
       "      <td>M</td>\n",
       "      <td>Middle-Age</td>\n",
       "      <td>609527</td>\n",
       "    </tr>\n",
       "    <tr>\n",
       "      <th>5</th>\n",
       "      <td>M</td>\n",
       "      <td>Young</td>\n",
       "      <td>16907</td>\n",
       "    </tr>\n",
       "    <tr>\n",
       "      <th>6</th>\n",
       "      <td>T</td>\n",
       "      <td>Elderly</td>\n",
       "      <td>1</td>\n",
       "    </tr>\n",
       "  </tbody>\n",
       "</table>\n",
       "</div>"
      ],
      "text/plain": [
       "  CustGender    AgeGroup  TransactionID\n",
       "0          F     Elderly          39553\n",
       "1          F  Middle-Age         235433\n",
       "2          F       Young           5649\n",
       "3          M     Elderly         134544\n",
       "4          M  Middle-Age         609527\n",
       "5          M       Young          16907\n",
       "6          T     Elderly              1"
      ]
     },
     "execution_count": 32,
     "metadata": {},
     "output_type": "execute_result"
    }
   ],
   "source": [
    "data2"
   ]
  },
  {
   "cell_type": "code",
   "execution_count": 33,
   "id": "ef6681ff-15f6-49ac-be9e-aad5eadeb6e1",
   "metadata": {},
   "outputs": [
    {
     "data": {
      "text/html": [
       "<div>\n",
       "<style scoped>\n",
       "    .dataframe tbody tr th:only-of-type {\n",
       "        vertical-align: middle;\n",
       "    }\n",
       "\n",
       "    .dataframe tbody tr th {\n",
       "        vertical-align: top;\n",
       "    }\n",
       "\n",
       "    .dataframe thead th {\n",
       "        text-align: right;\n",
       "    }\n",
       "</style>\n",
       "<table border=\"1\" class=\"dataframe\">\n",
       "  <thead>\n",
       "    <tr style=\"text-align: right;\">\n",
       "      <th></th>\n",
       "      <th>CustGender</th>\n",
       "      <th>AgeGroup</th>\n",
       "      <th>TransactionID</th>\n",
       "    </tr>\n",
       "  </thead>\n",
       "  <tbody>\n",
       "    <tr>\n",
       "      <th>0</th>\n",
       "      <td>F</td>\n",
       "      <td>Elderly</td>\n",
       "      <td>39553</td>\n",
       "    </tr>\n",
       "    <tr>\n",
       "      <th>1</th>\n",
       "      <td>F</td>\n",
       "      <td>Middle-Age</td>\n",
       "      <td>235433</td>\n",
       "    </tr>\n",
       "    <tr>\n",
       "      <th>2</th>\n",
       "      <td>F</td>\n",
       "      <td>Young</td>\n",
       "      <td>5649</td>\n",
       "    </tr>\n",
       "    <tr>\n",
       "      <th>3</th>\n",
       "      <td>M</td>\n",
       "      <td>Elderly</td>\n",
       "      <td>134544</td>\n",
       "    </tr>\n",
       "    <tr>\n",
       "      <th>4</th>\n",
       "      <td>M</td>\n",
       "      <td>Middle-Age</td>\n",
       "      <td>609527</td>\n",
       "    </tr>\n",
       "    <tr>\n",
       "      <th>5</th>\n",
       "      <td>M</td>\n",
       "      <td>Young</td>\n",
       "      <td>16907</td>\n",
       "    </tr>\n",
       "    <tr>\n",
       "      <th>6</th>\n",
       "      <td>T</td>\n",
       "      <td>Elderly</td>\n",
       "      <td>1</td>\n",
       "    </tr>\n",
       "  </tbody>\n",
       "</table>\n",
       "</div>"
      ],
      "text/plain": [
       "  CustGender    AgeGroup  TransactionID\n",
       "0          F     Elderly          39553\n",
       "1          F  Middle-Age         235433\n",
       "2          F       Young           5649\n",
       "3          M     Elderly         134544\n",
       "4          M  Middle-Age         609527\n",
       "5          M       Young          16907\n",
       "6          T     Elderly              1"
      ]
     },
     "execution_count": 33,
     "metadata": {},
     "output_type": "execute_result"
    }
   ],
   "source": [
    "data2 = data2[data2['TransactionID']!=0]\n",
    "data2"
   ]
  },
  {
   "cell_type": "code",
   "execution_count": 36,
   "id": "3c7826fd-5226-4f9e-9480-854cacbb7d99",
   "metadata": {},
   "outputs": [
    {
     "name": "stderr",
     "output_type": "stream",
     "text": [
      "  WARNING: The scripts fonttools.exe, pyftmerge.exe, pyftsubset.exe and ttx.exe are installed in 'C:\\Users\\Prach\\AppData\\Local\\Packages\\PythonSoftwareFoundation.Python.3.13_qbz5n2kfra8p0\\LocalCache\\local-packages\\Python313\\Scripts' which is not on PATH.\n",
      "  Consider adding this directory to PATH or, if you prefer to suppress this warning, use --no-warn-script-location.\n"
     ]
    },
    {
     "name": "stdout",
     "output_type": "stream",
     "text": [
      "Defaulting to user installation because normal site-packages is not writeable\n",
      "Collecting matplotlib\n",
      "  Downloading matplotlib-3.10.1-cp313-cp313-win_amd64.whl.metadata (11 kB)\n",
      "Collecting contourpy>=1.0.1 (from matplotlib)\n",
      "  Using cached contourpy-1.3.1-cp313-cp313-win_amd64.whl.metadata (5.4 kB)\n",
      "Collecting cycler>=0.10 (from matplotlib)\n",
      "  Using cached cycler-0.12.1-py3-none-any.whl.metadata (3.8 kB)\n",
      "Collecting fonttools>=4.22.0 (from matplotlib)\n",
      "  Using cached fonttools-4.56.0-cp313-cp313-win_amd64.whl.metadata (103 kB)\n",
      "Collecting kiwisolver>=1.3.1 (from matplotlib)\n",
      "  Using cached kiwisolver-1.4.8-cp313-cp313-win_amd64.whl.metadata (6.3 kB)\n",
      "Requirement already satisfied: numpy>=1.23 in c:\\users\\prach\\appdata\\local\\packages\\pythonsoftwarefoundation.python.3.13_qbz5n2kfra8p0\\localcache\\local-packages\\python313\\site-packages (from matplotlib) (2.2.4)\n",
      "Requirement already satisfied: packaging>=20.0 in c:\\users\\prach\\appdata\\local\\packages\\pythonsoftwarefoundation.python.3.13_qbz5n2kfra8p0\\localcache\\local-packages\\python313\\site-packages (from matplotlib) (24.2)\n",
      "Collecting pillow>=8 (from matplotlib)\n",
      "  Using cached pillow-11.1.0-cp313-cp313-win_amd64.whl.metadata (9.3 kB)\n",
      "Collecting pyparsing>=2.3.1 (from matplotlib)\n",
      "  Downloading pyparsing-3.2.3-py3-none-any.whl.metadata (5.0 kB)\n",
      "Requirement already satisfied: python-dateutil>=2.7 in c:\\users\\prach\\appdata\\local\\packages\\pythonsoftwarefoundation.python.3.13_qbz5n2kfra8p0\\localcache\\local-packages\\python313\\site-packages (from matplotlib) (2.9.0.post0)\n",
      "Requirement already satisfied: six>=1.5 in c:\\users\\prach\\appdata\\local\\packages\\pythonsoftwarefoundation.python.3.13_qbz5n2kfra8p0\\localcache\\local-packages\\python313\\site-packages (from python-dateutil>=2.7->matplotlib) (1.17.0)\n",
      "Downloading matplotlib-3.10.1-cp313-cp313-win_amd64.whl (8.1 MB)\n",
      "   ---------------------------------------- 0.0/8.1 MB ? eta -:--:--\n",
      "   - -------------------------------------- 0.3/8.1 MB ? eta -:--:--\n",
      "   -- ------------------------------------- 0.5/8.1 MB 1.9 MB/s eta 0:00:04\n",
      "   ----- ---------------------------------- 1.0/8.1 MB 1.8 MB/s eta 0:00:04\n",
      "   ------ --------------------------------- 1.3/8.1 MB 1.7 MB/s eta 0:00:04\n",
      "   --------- ------------------------------ 1.8/8.1 MB 1.9 MB/s eta 0:00:04\n",
      "   --------- ------------------------------ 1.8/8.1 MB 1.9 MB/s eta 0:00:04\n",
      "   ---------- ----------------------------- 2.1/8.1 MB 1.6 MB/s eta 0:00:04\n",
      "   ---------- ----------------------------- 2.1/8.1 MB 1.6 MB/s eta 0:00:04\n",
      "   ------------- -------------------------- 2.6/8.1 MB 1.4 MB/s eta 0:00:04\n",
      "   -------------- ------------------------- 2.9/8.1 MB 1.5 MB/s eta 0:00:04\n",
      "   ---------------- ----------------------- 3.4/8.1 MB 1.5 MB/s eta 0:00:04\n",
      "   ------------------ --------------------- 3.7/8.1 MB 1.5 MB/s eta 0:00:03\n",
      "   -------------------- ------------------- 4.2/8.1 MB 1.6 MB/s eta 0:00:03\n",
      "   ---------------------- ----------------- 4.5/8.1 MB 1.6 MB/s eta 0:00:03\n",
      "   ------------------------ --------------- 5.0/8.1 MB 1.6 MB/s eta 0:00:02\n",
      "   -------------------------- ------------- 5.2/8.1 MB 1.6 MB/s eta 0:00:02\n",
      "   -------------------------- ------------- 5.2/8.1 MB 1.6 MB/s eta 0:00:02\n",
      "   -------------------------- ------------- 5.2/8.1 MB 1.6 MB/s eta 0:00:02\n",
      "   -------------------------- ------------- 5.2/8.1 MB 1.6 MB/s eta 0:00:02\n",
      "   --------------------------- ------------ 5.5/8.1 MB 1.3 MB/s eta 0:00:02\n",
      "   ---------------------------- ----------- 5.8/8.1 MB 1.3 MB/s eta 0:00:02\n",
      "   ----------------------------- ---------- 6.0/8.1 MB 1.3 MB/s eta 0:00:02\n",
      "   ------------------------------- -------- 6.3/8.1 MB 1.3 MB/s eta 0:00:02\n",
      "   --------------------------------- ------ 6.8/8.1 MB 1.3 MB/s eta 0:00:01\n",
      "   ------------------------------------ --- 7.3/8.1 MB 1.4 MB/s eta 0:00:01\n",
      "   ------------------------------------ --- 7.3/8.1 MB 1.4 MB/s eta 0:00:01\n",
      "   ------------------------------------- -- 7.6/8.1 MB 1.3 MB/s eta 0:00:01\n",
      "   ---------------------------------------  7.9/8.1 MB 1.3 MB/s eta 0:00:01\n",
      "   ---------------------------------------- 8.1/8.1 MB 1.3 MB/s eta 0:00:00\n",
      "Using cached contourpy-1.3.1-cp313-cp313-win_amd64.whl (220 kB)\n",
      "Using cached cycler-0.12.1-py3-none-any.whl (8.3 kB)\n",
      "Using cached fonttools-4.56.0-cp313-cp313-win_amd64.whl (2.2 MB)\n",
      "Using cached kiwisolver-1.4.8-cp313-cp313-win_amd64.whl (71 kB)\n",
      "Using cached pillow-11.1.0-cp313-cp313-win_amd64.whl (2.6 MB)\n",
      "Downloading pyparsing-3.2.3-py3-none-any.whl (111 kB)\n",
      "Installing collected packages: pyparsing, pillow, kiwisolver, fonttools, cycler, contourpy, matplotlib\n",
      "Successfully installed contourpy-1.3.1 cycler-0.12.1 fonttools-4.56.0 kiwisolver-1.4.8 matplotlib-3.10.1 pillow-11.1.0 pyparsing-3.2.3\n"
     ]
    },
    {
     "data": {
      "image/png": "[encoded data removed]",
      "text/plain": [
       "<Figure size 800x400 with 1 Axes>"
      ]
     },
     "metadata": {},
     "output_type": "display_data"
    }
   ],
   "source": [
    "!pip install matplotlib\n",
    "import matplotlib.pyplot as plt\n",
    "\n",
    "# Convert 'CustGender' and 'AgeGroup' columns to strings\n",
    "labels = (data2['CustGender'].astype(str) + '_' + data2['AgeGroup'].astype(str))\n",
    "explode = (0.2,0.1,0.2,0,0.1,0,0.3)\n",
    "\n",
    "# Create the bar plot\n",
    "plt.figure(figsize=(8,4))\n",
    "plt.pie(data2['TransactionID'],explode= explode,autopct ='%1.1f%%',\n",
    "        wedgeprops={\"edgecolor\":\"k\",'linewidth': 0.5,'linestyle': '-'})\n",
    "plt.legend(labels)\n",
    "plt.title('Pie Chart showing transactions based on age and gender')\n",
    "plt.axis('equal')\n",
    "plt.show()"
   ]
  },
  {
   "cell_type": "markdown",
   "id": "1076524e-ce7d-4ad8-af5b-fb2439471de0",
   "metadata": {},
   "source": [
    "The Pie Chart indicates that the age group between 20 and 40 years old made more transactions and the number of transactions by males is noticeably higher than that by females.\n",
    "Let's perform Location-wise analysis to identify regional trends."
   ]
  },
  {
   "cell_type": "code",
   "execution_count": 38,
   "id": "58d8f2c9-0755-43c3-a3bd-c216640a9448",
   "metadata": {},
   "outputs": [
    {
     "data": {
      "text/html": [
       "<div>\n",
       "<style scoped>\n",
       "    .dataframe tbody tr th:only-of-type {\n",
       "        vertical-align: middle;\n",
       "    }\n",
       "\n",
       "    .dataframe tbody tr th {\n",
       "        vertical-align: top;\n",
       "    }\n",
       "\n",
       "    .dataframe thead th {\n",
       "        text-align: right;\n",
       "    }\n",
       "</style>\n",
       "<table border=\"1\" class=\"dataframe\">\n",
       "  <thead>\n",
       "    <tr style=\"text-align: right;\">\n",
       "      <th></th>\n",
       "      <th>Location</th>\n",
       "      <th>CustomerCount</th>\n",
       "      <th>AverageBalance</th>\n",
       "      <th>TotalTransactionAmount</th>\n",
       "      <th>TransactionCount</th>\n",
       "    </tr>\n",
       "  </thead>\n",
       "  <tbody>\n",
       "    <tr>\n",
       "      <th>0</th>\n",
       "      <td>(154) BHASKOLA FARIDABAD</td>\n",
       "      <td>11</td>\n",
       "      <td>49388.09</td>\n",
       "      <td>5940.35</td>\n",
       "      <td>11</td>\n",
       "    </tr>\n",
       "    <tr>\n",
       "      <th>1</th>\n",
       "      <td>(BEFORE YMCA BLDG) CHENNAI</td>\n",
       "      <td>1</td>\n",
       "      <td>659.33</td>\n",
       "      <td>1200.00</td>\n",
       "      <td>1</td>\n",
       "    </tr>\n",
       "    <tr>\n",
       "      <th>2</th>\n",
       "      <td>(BENAKA MDTS) BANGALORE</td>\n",
       "      <td>20</td>\n",
       "      <td>57.24</td>\n",
       "      <td>3442.05</td>\n",
       "      <td>21</td>\n",
       "    </tr>\n",
       "    <tr>\n",
       "      <th>3</th>\n",
       "      <td>(BRINDA BAN ) KOLKATA</td>\n",
       "      <td>5</td>\n",
       "      <td>7967.89</td>\n",
       "      <td>3143.00</td>\n",
       "      <td>5</td>\n",
       "    </tr>\n",
       "    <tr>\n",
       "      <th>4</th>\n",
       "      <td>(DT) HOSUR</td>\n",
       "      <td>11</td>\n",
       "      <td>6134.27</td>\n",
       "      <td>15380.11</td>\n",
       "      <td>11</td>\n",
       "    </tr>\n",
       "    <tr>\n",
       "      <th>...</th>\n",
       "      <td>...</td>\n",
       "      <td>...</td>\n",
       "      <td>...</td>\n",
       "      <td>...</td>\n",
       "      <td>...</td>\n",
       "    </tr>\n",
       "    <tr>\n",
       "      <th>9270</th>\n",
       "      <td>ZONE WHITEFIELD BANGALORE</td>\n",
       "      <td>40</td>\n",
       "      <td>36724.28</td>\n",
       "      <td>96773.57</td>\n",
       "      <td>41</td>\n",
       "    </tr>\n",
       "    <tr>\n",
       "      <th>9271</th>\n",
       "      <td>ZOPADPATTI TEHSIL KURLA MUMBAI</td>\n",
       "      <td>1</td>\n",
       "      <td>28983.98</td>\n",
       "      <td>7990.00</td>\n",
       "      <td>1</td>\n",
       "    </tr>\n",
       "    <tr>\n",
       "      <th>9272</th>\n",
       "      <td>ZUARINAGAR</td>\n",
       "      <td>6</td>\n",
       "      <td>17338.82</td>\n",
       "      <td>6088.86</td>\n",
       "      <td>6</td>\n",
       "    </tr>\n",
       "    <tr>\n",
       "      <th>9273</th>\n",
       "      <td>ZUMARI TILAIYA</td>\n",
       "      <td>9</td>\n",
       "      <td>1046346.96</td>\n",
       "      <td>8450.02</td>\n",
       "      <td>9</td>\n",
       "    </tr>\n",
       "    <tr>\n",
       "      <th>9274</th>\n",
       "      <td>ZUNHEBOTO</td>\n",
       "      <td>1</td>\n",
       "      <td>37226.97</td>\n",
       "      <td>3756.00</td>\n",
       "      <td>1</td>\n",
       "    </tr>\n",
       "  </tbody>\n",
       "</table>\n",
       "<p>9275 rows × 5 columns</p>\n",
       "</div>"
      ],
      "text/plain": [
       "                            Location  CustomerCount  AverageBalance  \\\n",
       "0           (154) BHASKOLA FARIDABAD             11        49388.09   \n",
       "1         (BEFORE YMCA BLDG) CHENNAI              1          659.33   \n",
       "2            (BENAKA MDTS) BANGALORE             20           57.24   \n",
       "3              (BRINDA BAN ) KOLKATA              5         7967.89   \n",
       "4                         (DT) HOSUR             11         6134.27   \n",
       "...                              ...            ...             ...   \n",
       "9270       ZONE WHITEFIELD BANGALORE             40        36724.28   \n",
       "9271  ZOPADPATTI TEHSIL KURLA MUMBAI              1        28983.98   \n",
       "9272                      ZUARINAGAR              6        17338.82   \n",
       "9273                  ZUMARI TILAIYA              9      1046346.96   \n",
       "9274                       ZUNHEBOTO              1        37226.97   \n",
       "\n",
       "      TotalTransactionAmount  TransactionCount  \n",
       "0                    5940.35                11  \n",
       "1                    1200.00                 1  \n",
       "2                    3442.05                21  \n",
       "3                    3143.00                 5  \n",
       "4                   15380.11                11  \n",
       "...                      ...               ...  \n",
       "9270                96773.57                41  \n",
       "9271                 7990.00                 1  \n",
       "9272                 6088.86                 6  \n",
       "9273                 8450.02                 9  \n",
       "9274                 3756.00                 1  \n",
       "\n",
       "[9275 rows x 5 columns]"
      ]
     },
     "execution_count": 38,
     "metadata": {},
     "output_type": "execute_result"
    }
   ],
   "source": [
    "# Grouping the data by location \n",
    "location_grouped = data.groupby('CustLocation')\n",
    "\n",
    "# creating dataframe with aggregated statistics\n",
    "location_stats = location_grouped.agg({\n",
    "    'CustomerID': 'nunique',  # Count unique Customer IDs\n",
    "    'CustAccountBalance': 'mean',\n",
    "    'TransactionAmount (INR)': 'sum',\n",
    "    'TransactionID': 'count'  # Count the total number of transactions\n",
    "}).reset_index()\n",
    "location_stats.columns = ['Location', 'CustomerCount', 'AverageBalance', 'TotalTransactionAmount', 'TransactionCount']\n",
    "location_stats"
   ]
  },
  {
   "cell_type": "code",
   "execution_count": 39,
   "id": "3374d88d-a5e2-438d-a1ca-481ab623fb3c",
   "metadata": {},
   "outputs": [
    {
     "data": {
      "image/png": "[encoded data removed]",
      "text/plain": [
       "<Figure size 1200x600 with 1 Axes>"
      ]
     },
     "metadata": {},
     "output_type": "display_data"
    }
   ],
   "source": [
    "# Selecting the top N locations based on transaction amount(e.g., top 10)\n",
    "top_locations_amount = location_stats.sort_values(by='TotalTransactionAmount', ascending=False).head(10)\n",
    "\n",
    "# Creating a bar chart for the top locations\n",
    "plt.figure(figsize=(12, 6))\n",
    "bars = plt.bar(top_locations_amount['Location'], top_locations_amount['TotalTransactionAmount'])\n",
    "plt.xlabel('Location')\n",
    "plt.ylabel('Total Transaction Amount (INR)')\n",
    "plt.title('Top 10 Locations by Total Transaction Amount')\n",
    "plt.xticks(rotation=40)  # Rotate x-axis labels for better readability\n",
    "\n",
    "plt.show()"
   ]
  },
  {
   "cell_type": "markdown",
   "id": "360dd3bf-eddf-48ee-996d-93179e822b4e",
   "metadata": {},
   "source": [
    "Mumbai, Delhi, and Bangalore appear to be the locations with the highest transaction amounts. To understand the reason behind this, we need to determine whether it's because these locations have more customers or because there are more transactions originating from these places."
   ]
  },
  {
   "cell_type": "code",
   "execution_count": 47,
   "id": "f9cec61e-15a2-4d5e-bd11-8e9ca3a42ed2",
   "metadata": {},
   "outputs": [
    {
     "data": {
      "image/png": "[encoded data removed]",
      "text/plain": [
       "<Figure size 1200x600 with 1 Axes>"
      ]
     },
     "metadata": {},
     "output_type": "display_data"
    }
   ],
   "source": [
    "# Selecting the top N locations based on number of customers (e.g., top 10)\n",
    "top_locations_customers = location_stats.sort_values(by='CustomerCount', ascending=False).head(10)\n",
    "\n",
    "# Creating a bar chart for the top locations\n",
    "plt.figure(figsize=(12, 6))\n",
    "bars = plt.bar(top_locations_customers['Location'], top_locations_customers['CustomerCount'])\n",
    "plt.xlabel('Location (CustLocation)')\n",
    "plt.ylabel('Total Number of Customers')\n",
    "plt.title('Top 10 Locations by Number of Customers')\n",
    "plt.xticks(rotation=40)  # Rotate x-axis labels for better readability\n",
    "\n",
    "plt.show()"
   ]
  },
  {
   "cell_type": "code",
   "execution_count": 44,
   "id": "d7748681-54e4-46d3-a088-973f769c3681",
   "metadata": {},
   "outputs": [
    {
     "data": {
      "text/html": [
       "<div>\n",
       "<style scoped>\n",
       "    .dataframe tbody tr th:only-of-type {\n",
       "        vertical-align: middle;\n",
       "    }\n",
       "\n",
       "    .dataframe tbody tr th {\n",
       "        vertical-align: top;\n",
       "    }\n",
       "\n",
       "    .dataframe thead th {\n",
       "        text-align: right;\n",
       "    }\n",
       "</style>\n",
       "<table border=\"1\" class=\"dataframe\">\n",
       "  <thead>\n",
       "    <tr style=\"text-align: right;\">\n",
       "      <th></th>\n",
       "      <th>Location</th>\n",
       "      <th>CustomerCount</th>\n",
       "      <th>AverageBalance</th>\n",
       "      <th>TotalTransactionAmount</th>\n",
       "      <th>TransactionCount</th>\n",
       "    </tr>\n",
       "  </thead>\n",
       "  <tbody>\n",
       "    <tr>\n",
       "      <th>5219</th>\n",
       "      <td>MUMBAI</td>\n",
       "      <td>100198</td>\n",
       "      <td>154281.864562</td>\n",
       "      <td>1.747338e+08</td>\n",
       "      <td>101997</td>\n",
       "    </tr>\n",
       "    <tr>\n",
       "      <th>5738</th>\n",
       "      <td>NEW DELHI</td>\n",
       "      <td>82811</td>\n",
       "      <td>192450.453458</td>\n",
       "      <td>1.584735e+08</td>\n",
       "      <td>84143</td>\n",
       "    </tr>\n",
       "    <tr>\n",
       "      <th>770</th>\n",
       "      <td>BANGALORE</td>\n",
       "      <td>80128</td>\n",
       "      <td>102518.067872</td>\n",
       "      <td>1.174852e+08</td>\n",
       "      <td>81330</td>\n",
       "    </tr>\n",
       "    <tr>\n",
       "      <th>3058</th>\n",
       "      <td>GURGAON</td>\n",
       "      <td>72637</td>\n",
       "      <td>177232.125498</td>\n",
       "      <td>1.114485e+08</td>\n",
       "      <td>73594</td>\n",
       "    </tr>\n",
       "    <tr>\n",
       "      <th>2055</th>\n",
       "      <td>DELHI</td>\n",
       "      <td>69611</td>\n",
       "      <td>107557.075197</td>\n",
       "      <td>1.051617e+08</td>\n",
       "      <td>70549</td>\n",
       "    </tr>\n",
       "    <tr>\n",
       "      <th>5833</th>\n",
       "      <td>NOIDA</td>\n",
       "      <td>32443</td>\n",
       "      <td>110244.372042</td>\n",
       "      <td>4.424702e+07</td>\n",
       "      <td>32656</td>\n",
       "    </tr>\n",
       "    <tr>\n",
       "      <th>1591</th>\n",
       "      <td>CHENNAI</td>\n",
       "      <td>29654</td>\n",
       "      <td>89530.634858</td>\n",
       "      <td>4.427020e+07</td>\n",
       "      <td>29840</td>\n",
       "    </tr>\n",
       "    <tr>\n",
       "      <th>6656</th>\n",
       "      <td>PUNE</td>\n",
       "      <td>25550</td>\n",
       "      <td>98689.569965</td>\n",
       "      <td>3.906549e+07</td>\n",
       "      <td>25690</td>\n",
       "    </tr>\n",
       "    <tr>\n",
       "      <th>3367</th>\n",
       "      <td>HYDERABAD</td>\n",
       "      <td>22857</td>\n",
       "      <td>130806.950079</td>\n",
       "      <td>3.597353e+07</td>\n",
       "      <td>22976</td>\n",
       "    </tr>\n",
       "    <tr>\n",
       "      <th>8310</th>\n",
       "      <td>THANE</td>\n",
       "      <td>21297</td>\n",
       "      <td>66744.825912</td>\n",
       "      <td>2.698865e+07</td>\n",
       "      <td>21397</td>\n",
       "    </tr>\n",
       "  </tbody>\n",
       "</table>\n",
       "</div>"
      ],
      "text/plain": [
       "       Location  CustomerCount  AverageBalance  TotalTransactionAmount  \\\n",
       "5219     MUMBAI         100198   154281.864562            1.747338e+08   \n",
       "5738  NEW DELHI          82811   192450.453458            1.584735e+08   \n",
       "770   BANGALORE          80128   102518.067872            1.174852e+08   \n",
       "3058    GURGAON          72637   177232.125498            1.114485e+08   \n",
       "2055      DELHI          69611   107557.075197            1.051617e+08   \n",
       "5833      NOIDA          32443   110244.372042            4.424702e+07   \n",
       "1591    CHENNAI          29654    89530.634858            4.427020e+07   \n",
       "6656       PUNE          25550    98689.569965            3.906549e+07   \n",
       "3367  HYDERABAD          22857   130806.950079            3.597353e+07   \n",
       "8310      THANE          21297    66744.825912            2.698865e+07   \n",
       "\n",
       "      TransactionCount  \n",
       "5219            101997  \n",
       "5738             84143  \n",
       "770              81330  \n",
       "3058             73594  \n",
       "2055             70549  \n",
       "5833             32656  \n",
       "1591             29840  \n",
       "6656             25690  \n",
       "3367             22976  \n",
       "8310             21397  "
      ]
     },
     "execution_count": 44,
     "metadata": {},
     "output_type": "execute_result"
    }
   ],
   "source": [
    "top_locations = location_stats.sort_values(by='TransactionCount', ascending=False).head(10)\n",
    "top_locations"
   ]
  },
  {
   "cell_type": "markdown",
   "id": "3eee66e4-6737-4046-b107-c5cd2f0ea6cf",
   "metadata": {},
   "source": [
    "# Selecting the top N locations based on number of transactions (e.g., top 10)\n",
    "top_locations = location_stats.sort_values(by='TransactionCount', ascending=False).head(10)\n",
    "\n",
    "# Creating a bar chart for the top locations\n",
    "plt.figure(figsize=(12, 6))\n",
    "bars = plt.bar(top_locations['Location'], top_locations['TransactionCount'])\n",
    "plt.xlabel('Location (CustLocation)')\n",
    "plt.ylabel('Total Number of Transactions')\n",
    "plt.title('Top 10 Locations by Number of Transactions')\n",
    "plt.xticks(rotation=40)  # Rotate x-axis labels for better readability\n",
    "\n",
    "plt.show()"
   ]
  },
  {
   "cell_type": "markdown",
   "id": "71ef1d09-fcf3-45ea-bb76-ae7642b8468a",
   "metadata": {},
   "source": [
    "It appears that these locations have a high number of customers, and the number of transactions is also proportionate to the number of customers. Therefore, the reason for the major total sum of transactions in these locations is likely due to the larger customer base in these areas."
   ]
  },
  {
   "cell_type": "markdown",
   "id": "8552e476-5c71-4fd9-b2c6-360f02c96179",
   "metadata": {},
   "source": [
    "## Summary Insights:\n",
    "    \n",
    "### Location Impact: \n",
    "    Mumbai, Delhi, and Bangalore shine with the highest transaction amounts, mainly due to their substantial customer bases.\n",
    "\n",
    "### Demographic Focus: \n",
    "    Customers aged 20-40 are the most active, with males dominating transactions.\n",
    "\n",
    "### Actionable Opportunities: \n",
    "    Segment customers by age and gender for targeted marketing. Prioritize the 20-40 age group and address gender disparities.\n",
    "\n",
    "### Location Strategies: \n",
    "    Consider location-specific tactics for high transaction areas."
   ]
  },
  {
   "cell_type": "code",
   "execution_count": null,
   "id": "421c147d-7956-4ef1-9917-12845451716a",
   "metadata": {},
   "outputs": [],
   "source": []
  }
 ],
 "metadata": {
  "kernelspec": {
   "display_name": "Python 3 (ipykernel)",
   "language": "python",
   "name": "python3"
  },
  "language_info": {
   "codemirror_mode": {
    "name": "ipython",
    "version": 3
   },
   "file_extension": ".py",
   "mimetype": "text/x-python",
   "name": "python",
   "nbconvert_exporter": "python",
   "pygments_lexer": "ipython3",
   "version": "3.13.2"
  }
 },
 "nbformat": 4,
 "nbformat_minor": 5
}
